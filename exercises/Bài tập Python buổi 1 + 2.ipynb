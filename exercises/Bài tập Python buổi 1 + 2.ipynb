{
 "cells": [
  {
   "cell_type": "markdown",
   "metadata": {},
   "source": [
    "Các bài tập liên quan đến kiến thức sau:  \n",
    "* [string](https://docs.python.org/3/tutorial/introduction.html#strings)\n",
    "* [number (int/float)](https://docs.python.org/3/tutorial/introduction.html#numbers)\n",
    "* boolean (True/False)\n",
    "* [list](https://docs.python.org/3/tutorial/introduction.html#lists)\n",
    "* [tuple](https://docs.python.org/3/tutorial/datastructures.html#tuples-and-sequences)\n",
    "* [dictionary](https://docs.python.org/3/tutorial/datastructures.html#dictionaries)\n",
    "* [control flow (if/else/for/while)](https://docs.python.org/3/tutorial/controlflow.html)\n",
    "\n",
    "Mọi người cố gắng đọc tài liệu (click vào các khái niệm trên để đọc thêm trong document) khi làm bài.  \n",
    "\n",
    "# Bài tập\n",
    "--------"
   ]
  },
  {
   "cell_type": "markdown",
   "metadata": {},
   "source": [
    "## Exercise 1\n",
    "Cho một string như sau:  \n",
    "```python\n",
    "S = 'qA2'\n",
    "```  \n",
    "Yêu cầu:  \n",
    "* In the first line, print True if S has any alphanumeric characters. Otherwise, print False. \n",
    "* In the second line, print True if S has any alphabetical characters. Otherwise, print False. \n",
    "* In the third line, print True if S has any digits. Otherwise, print False. \n",
    "* In the fourth line, print True if S has any lowercase characters. Otherwise, print False. \n",
    "* In the fifth line, print True if S has any uppercase characters. Otherwise, print False.\n",
    "\n",
    "Output đúng:\n",
    "``` python\n",
    "True\n",
    "True\n",
    "True\n",
    "True\n",
    "True\n",
    "```"
   ]
  },
  {
   "cell_type": "code",
   "execution_count": null,
   "metadata": {
    "collapsed": true
   },
   "outputs": [],
   "source": []
  },
  {
   "cell_type": "markdown",
   "metadata": {},
   "source": [
    "## Exercise 2\n",
    "Cho một đoạn string bất kỳ, ví dụ như\n",
    "```python\n",
    "s = 'Những điều \"ngớ ngẩn\" ai trong chúng ta cũng từng làm lúc ở một mình'\n",
    "```\n",
    "\n",
    "Hãy biến đoạn string trên trở thành:\n",
    "```python\n",
    "'những-điều-\"ngớ-ngẩn\"-ai-trong-chúng-ta-cũng-từng-làm-lúc-ở-một-mình'\n",
    "```\n",
    "\n",
    "(Để hiểu lý do, hãy vào đường link http://cafebiz.vn/nhung-dieu-ngo-ngan-ai-trong-chung-ta-cung-tung-lam-luc-o-mot-minh-20170630145545471.chn, để ý tiêu đề bài viết và đường link)"
   ]
  },
  {
   "cell_type": "code",
   "execution_count": null,
   "metadata": {
    "collapsed": true
   },
   "outputs": [],
   "source": []
  },
  {
   "cell_type": "markdown",
   "metadata": {},
   "source": [
    "## Exercise 3\n",
    "Tính tổng các số từ 1 đến 1 triệu, lấy ra 10 chữ số cuối.  \n",
    "Cho biết hàm `sum` sẽ nhận đầu vào là một list các số và trả về tổng của các số đó."
   ]
  },
  {
   "cell_type": "code",
   "execution_count": 11,
   "metadata": {},
   "outputs": [
    {
     "data": {
      "text/plain": [
       "True"
      ]
     },
     "execution_count": 11,
     "metadata": {},
     "output_type": "execute_result"
    }
   ],
   "source": [
    "# Sample\n",
    "sum([1, 2, 3]) == 6"
   ]
  },
  {
   "cell_type": "markdown",
   "metadata": {},
   "source": [
    "## Exercise 4\n",
    "Cho 1 danh sách các tên như sau:  \n",
    "```python\n",
    "Trường, Kỳ, Kháng, Chiến, Nhất, Định, Thắng, Lợi\n",
    "```\n",
    "Với mỗi cái tên, hãy print ra màn hình dòng chữ 'Xin chào mọi người, tớ tên là ...' với phần ... là tên người đó.  \n",
    "\n",
    "Output:  \n",
    "Xin chào mọi người, tớ tên là Trường  \n",
    "Xin chào mọi người, tớ tên là Kỳ  \n",
    "....  \n",
    "Xin chào mọi người, tớ tên là Lợi  \n",
    "\n",
    "*Hint: sử dụng `list` và `format`*"
   ]
  },
  {
   "cell_type": "code",
   "execution_count": null,
   "metadata": {},
   "outputs": [],
   "source": []
  },
  {
   "cell_type": "markdown",
   "metadata": {},
   "source": [
    "## Exercise 5\n",
    "Cho một số tự nhiên n bất kỳ, hãy tạo một tuple là một dãy số tăng dần bắt đầu từ 0 đến n.  \n",
    "Hãy tính `hash` của tuple trên."
   ]
  },
  {
   "cell_type": "code",
   "execution_count": 19,
   "metadata": {},
   "outputs": [
    {
     "data": {
      "text/plain": [
       "2528502973977326415"
      ]
     },
     "execution_count": 19,
     "metadata": {},
     "output_type": "execute_result"
    }
   ],
   "source": [
    "hash((1, 2, 3)) # Ví dụ sử dụng hàm hash"
   ]
  },
  {
   "cell_type": "markdown",
   "metadata": {},
   "source": [
    "## Exercise 6\n",
    "Cho một list, ví dụ  \n",
    "```python\n",
    "li = [2, 3, 6, 6, 5, 10, 6, 2, 3, 100, 238, 10, 5]\n",
    "```\n",
    "\n",
    "Hãy tìm số lớn thứ **nhì** trong list trên.  "
   ]
  },
  {
   "cell_type": "code",
   "execution_count": null,
   "metadata": {
    "collapsed": true
   },
   "outputs": [],
   "source": []
  },
  {
   "cell_type": "markdown",
   "metadata": {},
   "source": [
    "## Exercise 7\n",
    "Cho 1 bài thơ như sau:  \n",
    ">  \n",
    "Take this kiss upon the brow!  \n",
    "And, in parting from you now,  \n",
    "Thus much let me avow--  \n",
    "You are not wrong, who deem  \n",
    "That my days have been a dream;  \n",
    "Yet if hope has flown away  \n",
    "In a night, or in a day,  \n",
    "In a vision, or in none,  \n",
    "Is it therefore the less gone?  \n",
    "All that we see or seem  \n",
    "Is but a dream within a dream.  \n",
    ">\n",
    "I stand amid the roar  \n",
    "Of a surf-tormented shore,  \n",
    "And I hold within my hand  \n",
    "Grains of the golden sand--  \n",
    "How few! yet how they creep  \n",
    "Through my fingers to the deep,  \n",
    "While I weep--while I weep!  \n",
    "O God! can I not grasp  \n",
    "Them with a tighter clasp?  \n",
    "O God! can I not save  \n",
    "One from the pitiless wave?  \n",
    "Is all that we see or seem  \n",
    "But a dream within a dream?  \n",
    "\n",
    "\n",
    "1. Tạo 1 biến poem có giá trị là cả bài thơ trên dưới dạng string\n",
    "2. Đếm xem bài thơ trên có bao nhiêu dòng, bao nhiêu ký tự?\n",
    "3. Trong bài thơ trên có bao nhiêu chữ \"or\"?\n",
    "3. Tách các dòng trên và đưa vào 1 list mới, mỗi dòng là một *item* của list đó.\n",
    "4. Với mỗi ký tự trong bài, nếu là ký tự in hoa, chuyển thành chữ thường, và ngược lại.\n",
    "5. Thay toàn bộ chữ \"I\" thành \"You\", và ngược lại."
   ]
  },
  {
   "cell_type": "code",
   "execution_count": null,
   "metadata": {
    "collapsed": true
   },
   "outputs": [],
   "source": []
  }
 ],
 "metadata": {
  "kernelspec": {
   "display_name": "Python 3",
   "language": "python",
   "name": "python3"
  },
  "language_info": {
   "codemirror_mode": {
    "name": "ipython",
    "version": 3
   },
   "file_extension": ".py",
   "mimetype": "text/x-python",
   "name": "python",
   "nbconvert_exporter": "python",
   "pygments_lexer": "ipython3",
   "version": "3.5.2"
  }
 },
 "nbformat": 4,
 "nbformat_minor": 2
}
