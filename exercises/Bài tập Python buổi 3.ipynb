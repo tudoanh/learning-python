{
 "cells": [
  {
   "cell_type": "markdown",
   "metadata": {},
   "source": [
    "Các bài tập này sẽ sử dụng các kiến thức đã học, như Control Flow và Function.  \n",
    "# Bài tập buổi 3\n",
    "------------------"
   ]
  },
  {
   "cell_type": "markdown",
   "metadata": {},
   "source": [
    "## Bài 1 - Tính giá trị một từ\n",
    "Nếu chữ a tương ứng với số 1, b tương ứng với 2, ... thì từ **attitude** sẽ bằng 100.  \n",
    "Hãy tạo một function nhận đầu vào là 1 từ và trả về điểm tương ứng của từ đó.  \n",
    "Sau đó, hãy tính điểm của từng từ trong list sau\n",
    "```python\n",
    "words = ['numpy', 'django', 'saltstack', 'discipline',\n",
    "         'Python', 'FAMILUG', 'pymi']\n",
    "```"
   ]
  },
  {
   "cell_type": "code",
   "execution_count": null,
   "metadata": {
    "collapsed": true
   },
   "outputs": [],
   "source": []
  },
  {
   "cell_type": "markdown",
   "metadata": {},
   "source": [
    "## Bài 2 - Tổng và tích\n",
    "Viết một function nhận đầu vào là một list các số, rồi tính tổng của chúng và trả về kết quả.  \n",
    "Tương tự, hãy viết một function khác như trên, nhưng là tính tích.  \n",
    "\n",
    "Ví dụ:  \n",
    "```python\n",
    "_sum([1, 2, 3, 4]) == 10\n",
    "_product([1, 2, 3]) == 6\n",
    "```\n",
    "\n",
    "*yêu cầu không sử dụng hàm ``sum``*"
   ]
  },
  {
   "cell_type": "code",
   "execution_count": null,
   "metadata": {
    "collapsed": true
   },
   "outputs": [],
   "source": []
  },
  {
   "cell_type": "markdown",
   "metadata": {},
   "source": [
    "# Bài 3 - Fibonacci\n",
    "Cho biết dãy [Fibonacci](https://vi.wikipedia.org/wiki/D%C3%A3y_Fibonacci) là dãy vô hạn các số tự nhiên bắt đầu bằng hai phần tử 0 và 1 hoặc 1 và 1, các phần tử sau đó được thiết lập theo quy tắc mỗi phần tử luôn bằng tổng hai phần tử trước nó.  \n",
    "\n",
    "Hãy viết một function tính số fibonacci số 1000.  \n",
    "\n",
    "*Gợi ý thuật toán (dạng recursion):*  \n",
    "![](https://wikimedia.org/api/rest_v1/media/math/render/svg/6693d2c78bc8132bb9b65be861148ca574a738ef)  \n",
    "\n",
    "\n",
    "Sau khi làm được bài này, mọi người có thể dễ dàng làm được câu 25 trong project euler.  \n",
    "https://projecteuler.net/problem=25"
   ]
  },
  {
   "cell_type": "code",
   "execution_count": null,
   "metadata": {
    "collapsed": true
   },
   "outputs": [],
   "source": []
  },
  {
   "cell_type": "markdown",
   "metadata": {},
   "source": [
    "# Bài 4 - Tam giác vuông\n",
    "Trả về list N bộ (a, b, c) là độ dài 3 cạnh của tam giác vuông có  \n",
    "cạnh huyền `c` có chu vi 24 cm (perimeter), biết độ dài các cạnh <= 10cm.\n",
    "\n",
    "*Yêu cầu dùng list comprehension.*\n"
   ]
  },
  {
   "cell_type": "code",
   "execution_count": null,
   "metadata": {
    "collapsed": true
   },
   "outputs": [],
   "source": []
  },
  {
   "cell_type": "markdown",
   "metadata": {},
   "source": [
    "# Bài 5 - Giá trị lớn nhất\n",
    "Viết một function nhận đầu vào là một list các số, sau đó trả về số lớn nhất của list đó.  \n",
    "\n",
    "Yêu cầu không dùng hàm ``max``"
   ]
  },
  {
   "cell_type": "code",
   "execution_count": null,
   "metadata": {
    "collapsed": true
   },
   "outputs": [],
   "source": []
  },
  {
   "cell_type": "markdown",
   "metadata": {},
   "source": [
    "# Bài 6 - Năm nhuận\n",
    "Nếu biết một năm được coi là năm nhuận khi nó đáp ứng được các điều kiện:  \n",
    "* Chia hết cho 4\n",
    "* Không chia hết cho 100  \n",
    "* Chia hết cho 400\n",
    "\n",
    "Ví dụ năm 2000 và 2400 là năm nhuận, còn 1800, 1900, 2100, 2200, 2300 và 2500 thì không.  \n",
    "\n",
    "Hãy viết một function nhận đầu vào là một năm bất kỳ và kiểm tra xem nó có phải năm nhuận hay không."
   ]
  },
  {
   "cell_type": "code",
   "execution_count": null,
   "metadata": {
    "collapsed": true
   },
   "outputs": [],
   "source": []
  },
  {
   "cell_type": "markdown",
   "metadata": {},
   "source": [
    "# Bài 7 - In dãy số\n",
    "Viết một function nhận đầu vào là một số N, sau đó `print` ra các số từ 1 cho đến N liên tiếp.  \n",
    "\n",
    "Ví dụ:  \n",
    "```python\n",
    "_print(5)\n",
    "12345\n",
    "\n",
    "_print(10)\n",
    "12345678910\n",
    "```"
   ]
  },
  {
   "cell_type": "code",
   "execution_count": null,
   "metadata": {
    "collapsed": true
   },
   "outputs": [],
   "source": []
  }
 ],
 "metadata": {
  "kernelspec": {
   "display_name": "Python 3",
   "language": "python",
   "name": "python3"
  },
  "language_info": {
   "codemirror_mode": {
    "name": "ipython",
    "version": 3
   },
   "file_extension": ".py",
   "mimetype": "text/x-python",
   "name": "python",
   "nbconvert_exporter": "python",
   "pygments_lexer": "ipython3",
   "version": "3.5.2"
  }
 },
 "nbformat": 4,
 "nbformat_minor": 2
}
